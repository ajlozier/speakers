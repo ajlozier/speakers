{
 "cells": [
  {
   "cell_type": "code",
   "execution_count": null,
   "metadata": {
    "collapsed": false
   },
   "outputs": [],
   "source": [
    "%matplotlib inline\n",
    "\n",
    "import os\n",
    "import logging\n",
    "\n",
    "from configurations import importer\n",
    "import django\n",
    "from django.db import connection\n",
    "import dotenv\n",
    "import pandas as pd\n",
    "\n",
    "dotenv.read_dotenv()\n",
    "os.environ['DJANGO_SETTINGS_MODULE'] = 'calltospeakers.settings'\n",
    "os.environ['DJANGO_CONFIGURATION'] = 'Development'\n",
    "importer.install()\n",
    "django.setup()"
   ]
  },
  {
   "cell_type": "code",
   "execution_count": null,
   "metadata": {
    "collapsed": false
   },
   "outputs": [],
   "source": [
    "def dictfetchall(cursor):\n",
    "    \"Returns all rows from a cursor as a dict\"\n",
    "    desc = cursor.description\n",
    "    return [\n",
    "        dict(zip([col[0] for col in desc], row))\n",
    "        for row in cursor.fetchall()\n",
    "    ]"
   ]
  },
  {
   "cell_type": "code",
   "execution_count": null,
   "metadata": {
    "collapsed": false
   },
   "outputs": [],
   "source": [
    "cursor = connection.cursor()\n",
    "cursor.execute(\"\"\"\n",
    "CREATE OR REPLACE VIEW wow_talk AS\n",
    "SELECT date_trunc('week', created) AT TIME ZONE 'PST' as week, \n",
    "       count(*) as talks\n",
    "FROM cfp_talk\n",
    "GROUP BY date_trunc('week', created)\n",
    "ORDER BY date_trunc('week', created) ASC\n",
    "\"\"\")\n",
    "\n",
    "cursor.execute(\"\"\"\n",
    "SELECT week,\n",
    "  cast(talks as numeric),\n",
    "  lag(talks, 1) over w as previous,\n",
    "  round((cast(talks as numeric) / (lag(talks, 1) over w) - 1) * 100, 1) as growth\n",
    "FROM wow_talk\n",
    "WINDOW w AS (ORDER BY week ASC)\n",
    "ORDER BY week ASC\n",
    "\"\"\")\n",
    "talks_wow = pd.DataFrame.from_records(dictfetchall(cursor), index='week')\n",
    "talks_wow"
   ]
  },
  {
   "cell_type": "code",
   "execution_count": null,
   "metadata": {
    "collapsed": false
   },
   "outputs": [],
   "source": [
    "talks_wow[1:-1]['growth'].astype(float).plot()"
   ]
  },
  {
   "cell_type": "code",
   "execution_count": null,
   "metadata": {
    "collapsed": false
   },
   "outputs": [],
   "source": [
    "cursor = connection.cursor()\n",
    "cursor.execute(\"\"\"\n",
    "CREATE OR REPLACE VIEW wow_user AS\n",
    "SELECT date_trunc('week', date_joined) AT TIME ZONE 'PST' as week, \n",
    "       count(*) as users\n",
    "FROM auth_user\n",
    "GROUP BY date_trunc('week', date_joined)\n",
    "ORDER BY date_trunc('week', date_joined) ASC\n",
    "\"\"\")\n",
    "\n",
    "cursor.execute(\"\"\"\n",
    "SELECT week,\n",
    "  cast(users as numeric),\n",
    "  lag(users, 1) over w as previous,\n",
    "  round((cast(users as numeric) / (lag(users, 1) over w) - 1) * 100, 1) as growth\n",
    "FROM wow_user\n",
    "WINDOW w AS (ORDER BY week ASC)\n",
    "ORDER BY week ASC\n",
    "\"\"\")\n",
    "users_wow = pd.DataFrame.from_records(dictfetchall(cursor), index='week')\n",
    "users_wow"
   ]
  },
  {
   "cell_type": "code",
   "execution_count": null,
   "metadata": {
    "collapsed": false,
    "scrolled": true
   },
   "outputs": [],
   "source": [
    "users_wow[1:-1]['growth'].astype(float).plot()"
   ]
  },
  {
   "cell_type": "code",
   "execution_count": null,
   "metadata": {
    "collapsed": true
   },
   "outputs": [],
   "source": []
  }
 ],
 "metadata": {
  "kernelspec": {
   "display_name": "Python 3",
   "language": "python",
   "name": "python3"
  },
  "language_info": {
   "codemirror_mode": {
    "name": "ipython",
    "version": 3
   },
   "file_extension": ".py",
   "mimetype": "text/x-python",
   "name": "python",
   "nbconvert_exporter": "python",
   "pygments_lexer": "ipython3",
   "version": "3.4.2"
  }
 },
 "nbformat": 4,
 "nbformat_minor": 0
}
